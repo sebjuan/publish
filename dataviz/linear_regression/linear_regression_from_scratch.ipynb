{
 "cells": [
  {
   "cell_type": "code",
   "execution_count": 1,
   "metadata": {},
   "outputs": [],
   "source": [
    "import numpy as np\n",
    "import pandas as pd\n",
    "import matplotlib.pyplot as plt"
   ]
  },
  {
   "attachments": {},
   "cell_type": "markdown",
   "metadata": {},
   "source": [
    "Import et vérif de la data"
   ]
  },
  {
   "cell_type": "code",
   "execution_count": 2,
   "metadata": {},
   "outputs": [
    {
     "data": {
      "text/html": [
       "<div>\n",
       "<style scoped>\n",
       "    .dataframe tbody tr th:only-of-type {\n",
       "        vertical-align: middle;\n",
       "    }\n",
       "\n",
       "    .dataframe tbody tr th {\n",
       "        vertical-align: top;\n",
       "    }\n",
       "\n",
       "    .dataframe thead th {\n",
       "        text-align: right;\n",
       "    }\n",
       "</style>\n",
       "<table border=\"1\" class=\"dataframe\">\n",
       "  <thead>\n",
       "    <tr style=\"text-align: right;\">\n",
       "      <th></th>\n",
       "      <th>taille</th>\n",
       "      <th>n_chambres</th>\n",
       "      <th>n_salle_de_bain</th>\n",
       "      <th>prix</th>\n",
       "    </tr>\n",
       "  </thead>\n",
       "  <tbody>\n",
       "    <tr>\n",
       "      <th>0</th>\n",
       "      <td>84</td>\n",
       "      <td>1</td>\n",
       "      <td>1</td>\n",
       "      <td>43.747</td>\n",
       "    </tr>\n",
       "    <tr>\n",
       "      <th>1</th>\n",
       "      <td>45</td>\n",
       "      <td>4</td>\n",
       "      <td>1</td>\n",
       "      <td>30.100</td>\n",
       "    </tr>\n",
       "    <tr>\n",
       "      <th>2</th>\n",
       "      <td>73</td>\n",
       "      <td>1</td>\n",
       "      <td>3</td>\n",
       "      <td>39.481</td>\n",
       "    </tr>\n",
       "    <tr>\n",
       "      <th>3</th>\n",
       "      <td>34</td>\n",
       "      <td>2</td>\n",
       "      <td>3</td>\n",
       "      <td>23.908</td>\n",
       "    </tr>\n",
       "    <tr>\n",
       "      <th>4</th>\n",
       "      <td>31</td>\n",
       "      <td>4</td>\n",
       "      <td>3</td>\n",
       "      <td>24.144</td>\n",
       "    </tr>\n",
       "  </tbody>\n",
       "</table>\n",
       "</div>"
      ],
      "text/plain": [
       "   taille  n_chambres  n_salle_de_bain    prix\n",
       "0      84           1                1  43.747\n",
       "1      45           4                1  30.100\n",
       "2      73           1                3  39.481\n",
       "3      34           2                3  23.908\n",
       "4      31           4                3  24.144"
      ]
     },
     "metadata": {},
     "output_type": "display_data"
    },
    {
     "name": "stdout",
     "output_type": "stream",
     "text": [
      "Il y a 99 lignes.\n",
      "\n",
      "Y a-t-il des nan dans la data ?\n"
     ]
    },
    {
     "data": {
      "text/plain": [
       "taille             False\n",
       "n_chambres         False\n",
       "n_salle_de_bain    False\n",
       "prix               False\n",
       "dtype: bool"
      ]
     },
     "metadata": {},
     "output_type": "display_data"
    }
   ],
   "source": [
    "df = pd.read_csv('prix_maisons.csv')\n",
    "display(df.head())\n",
    "print(f\"Il y a {df.shape[0]} lignes.\\n\")\n",
    "print(\"Y a-t-il des nan dans la data ?\")\n",
    "display(pd.isna(df).any())"
   ]
  },
  {
   "attachments": {},
   "cell_type": "markdown",
   "metadata": {},
   "source": [
    "Séparation `input` et `output`"
   ]
  },
  {
   "cell_type": "code",
   "execution_count": 3,
   "metadata": {},
   "outputs": [],
   "source": [
    "x = df.drop(\"prix\", axis=1).values  # axis = 1 car prix est un colonne\n",
    "y = df[\"prix\"].values.reshape(-1, 1)  # on veut que y.shape=(99, 1) et non pas (99,). On aurait pu faire reshape(99,1)"
   ]
  },
  {
   "cell_type": "code",
   "execution_count": 4,
   "metadata": {},
   "outputs": [
    {
     "name": "stdout",
     "output_type": "stream",
     "text": [
      "x.shape=(99, 3) et y.shape=(99, 1)\n"
     ]
    }
   ],
   "source": [
    "print(f\"{x.shape=} et {y.shape=}\")"
   ]
  },
  {
   "attachments": {},
   "cell_type": "markdown",
   "metadata": {},
   "source": [
    "Préparation pour l'algo"
   ]
  },
  {
   "attachments": {},
   "cell_type": "markdown",
   "metadata": {},
   "source": [
    "!! Le feature scaling doit être fait indépendamment sur le training_set et le test_set, \n",
    "\n",
    "car sinon, on a de l' `information leakage` depuis le test vers le train !! \n",
    "\n",
    "Dans ce cas ci, on ne sépare pas la data, donc cette remarque ne s'applique pas"
   ]
  },
  {
   "cell_type": "code",
   "execution_count": 5,
   "metadata": {},
   "outputs": [
    {
     "name": "stdout",
     "output_type": "stream",
     "text": [
      "x_min=array([30,  1,  1])\n",
      "x_max=array([99,  4,  3])\n",
      "x_range=array([69,  3,  2])\n"
     ]
    }
   ],
   "source": [
    "x_min = np.min(x, axis=0)\n",
    "x_max = np.max(x, axis=0)\n",
    "x_range = x_max - x_min\n",
    "\n",
    "\n",
    "print(f\"{x_min=}\")\n",
    "print(f\"{x_max=}\")\n",
    "print(f\"{x_range=}\")\n"
   ]
  },
  {
   "cell_type": "code",
   "execution_count": 6,
   "metadata": {},
   "outputs": [
    {
     "name": "stdout",
     "output_type": "stream",
     "text": [
      "Les 4 premières lignes de x sont\n",
      " [[84  1  1]\n",
      " [45  4  1]\n",
      " [73  1  3]\n",
      " [34  2  3]]\n",
      "Les 4 premières lignes de x_norm sont\n",
      " [[0.7826087  0.         0.        ]\n",
      " [0.2173913  1.         0.        ]\n",
      " [0.62318841 0.         1.        ]\n",
      " [0.05797101 0.33333333 1.        ]]\n"
     ]
    }
   ],
   "source": [
    "x_norm = (x - x_min) / x_range \n",
    "n_lignes = 4\n",
    "print(f\"Les {n_lignes} premières lignes de x sont\\n {x[:n_lignes,]}\")\n",
    "print(f\"Les {n_lignes} premières lignes de x_norm sont\\n {x_norm[:n_lignes,]}\")"
   ]
  },
  {
   "attachments": {},
   "cell_type": "markdown",
   "metadata": {},
   "source": [
    "!! On ne fait pas de feature scaling sur les biais !!"
   ]
  },
  {
   "cell_type": "code",
   "execution_count": 7,
   "metadata": {},
   "outputs": [
    {
     "name": "stdout",
     "output_type": "stream",
     "text": [
      "Les 10 premières lignes de X sont\n",
      " [[1.         0.7826087  0.         0.        ]\n",
      " [1.         0.2173913  1.         0.        ]\n",
      " [1.         0.62318841 0.         1.        ]\n",
      " [1.         0.05797101 0.33333333 1.        ]\n",
      " [1.         0.01449275 1.         1.        ]\n",
      " [1.         0.01449275 0.66666667 0.5       ]\n",
      " [1.         0.88405797 1.         1.        ]\n",
      " [1.         0.05797101 0.66666667 0.5       ]\n",
      " [1.         0.05797101 1.         0.        ]\n",
      " [1.         0.71014493 0.66666667 1.        ]] \n",
      " et on a X.shape=(99, 4)\n"
     ]
    }
   ],
   "source": [
    "# ajout des biais\n",
    "bias = np.ones((len(x_norm), 1))\n",
    "X = np.concatenate((bias, x_norm), axis = 1)\n",
    "print(f\"Les 10 premières lignes de X sont\\n {X[:10,]} \\n et on a {X.shape=}\")"
   ]
  },
  {
   "attachments": {},
   "cell_type": "markdown",
   "metadata": {},
   "source": [
    "On initialise theta,\n",
    "\n",
    "$\\theta = \\begin{bmatrix}\\epsilon_0 \\\\\\\\ \\epsilon_1 \\\\\\\\ \\epsilon_2 \\\\\\\\\\epsilon_3\\end{bmatrix}$ et on fera $Y = X\\cdot \\theta$"
   ]
  },
  {
   "cell_type": "code",
   "execution_count": 8,
   "metadata": {},
   "outputs": [
    {
     "name": "stdout",
     "output_type": "stream",
     "text": [
      "[[0.00147453]\n",
      " [0.00140052]\n",
      " [0.00100311]\n",
      " [0.0079945 ]]\n",
      "(4, 1)\n"
     ]
    }
   ],
   "source": [
    "eps=10**-2\n",
    "theta = eps * np.random.random((X.shape[1],1))\n",
    "print(theta)\n",
    "print(theta.shape)"
   ]
  },
  {
   "cell_type": "code",
   "execution_count": 9,
   "metadata": {},
   "outputs": [
    {
     "name": "stdout",
     "output_type": "stream",
     "text": [
      "Notons que dim(X)=(99, 4) et dim(θ)=(4, 1), qui sont compatibles pour la multiplication, et qui nous donnent dim(Y)=(99, 1)\n"
     ]
    }
   ],
   "source": [
    "print(f\"Notons que dim(X)={tuple(X.shape)} et dim(θ)={tuple(theta.shape)}, qui sont compatibles pour la multiplication, et qui nous donnent dim(Y)=({X.shape[0]}, {theta.shape[1]})\")"
   ]
  },
  {
   "attachments": {},
   "cell_type": "markdown",
   "metadata": {},
   "source": [
    "## Optimisation\n",
    "\n",
    "![cout](cout.png \"Fonction coût\")\n",
    "![partielle](partielle.png \"Utilisation de la érivée partielle dans la descente de gradient\")\n"
   ]
  },
  {
   "attachments": {},
   "cell_type": "markdown",
   "metadata": {},
   "source": [
    "dérivées partielle de la Fonction coût : \n",
    "\n",
    "$\\frac{\\partial J}{\\partial \\theta_j} = \\frac{1}{m}\\sum(f(\\theta) - y)x_j$ pour $j=0,1,..,3$ \n",
    "\n",
    "Gradient :\n",
    "\n",
    "$\\nabla J = [\\frac{\\partial J}{\\partial \\theta_0},...,\\frac{\\partial J}{\\partial \\theta_3}]$\n"
   ]
  },
  {
   "cell_type": "code",
   "execution_count": 11,
   "metadata": {},
   "outputs": [],
   "source": [
    "m = len(y)\n",
    "\n",
    "def grad(theta):\n",
    "    dJ = (1/m) * np.sum( (X @ theta - y) * X, axis=0).reshape(-1,1)\n",
    "    return dJ\n",
    "\n",
    "def cost(theta):\n",
    "    J = np.sum((X @ theta - y)**2,axis=0)[0]\n",
    "    return J"
   ]
  },
  {
   "cell_type": "code",
   "execution_count": 12,
   "metadata": {},
   "outputs": [
    {
     "name": "stdout",
     "output_type": "stream",
     "text": [
      "[[-43.74632768]\n",
      " [-30.09244307]\n",
      " [-39.47746261]\n",
      " [-23.90245996]\n",
      " [-24.13361171]]\n",
      "[[1.         0.7826087  0.         0.        ]\n",
      " [1.         0.2173913  1.         0.        ]\n",
      " [1.         0.62318841 0.         1.        ]\n",
      " [1.         0.05797101 0.33333333 1.        ]\n",
      " [1.         0.01449275 1.         1.        ]]\n",
      "[[-43.74632768 -34.23625645  -0.          -0.        ]\n",
      " [-30.09244307  -6.54183545 -30.09244307  -0.        ]\n",
      " [-39.47746261 -24.60189699  -0.         -39.47746261]\n",
      " [-23.90245996  -1.38564985  -7.96748665 -23.90245996]\n",
      " [-24.13361171  -0.34976249 -24.13361171 -24.13361171]]\n",
      "[-161.35230502  -67.11540122  -62.19354143  -87.51353427]\n"
     ]
    }
   ],
   "source": [
    "# Si on avait 5 lignes, la fonction grad ferait : \n",
    "print((X @ theta - y)[:5])\n",
    "print(X[:5])\n",
    "print((X @ theta - y)[:5] * X[:5])\n",
    "print(np.sum((X @ theta - y)[:5] * X[:5], axis=0))\n"
   ]
  },
  {
   "cell_type": "code",
   "execution_count": 13,
   "metadata": {},
   "outputs": [
    {
     "name": "stdout",
     "output_type": "stream",
     "text": [
      "[[-43.74632768]\n",
      " [-30.09244307]\n",
      " [-39.47746261]\n",
      " [-23.90245996]\n",
      " [-24.13361171]]\n",
      "[[1913.7411855 ]\n",
      " [ 905.55512976]\n",
      " [1558.47005377]\n",
      " [ 571.32759202]\n",
      " [ 582.4312142 ]]\n",
      "[5531.52517525]\n"
     ]
    }
   ],
   "source": [
    "# et pour la fonction coût\n",
    "print((X @ theta - y)[:5])\n",
    "print((X @ theta - y)[:5]**2)\n",
    "print(np.sum((X @ theta - y)[:5]**2,axis=0))\n"
   ]
  },
  {
   "attachments": {},
   "cell_type": "markdown",
   "metadata": {},
   "source": [
    "Descente de gradient : à la i-ième itération : \n",
    "\n",
    "$\\theta^{i+1} = \\theta^i - \\alpha\\times\\nabla J(\\theta^i)$"
   ]
  },
  {
   "cell_type": "code",
   "execution_count": 14,
   "metadata": {},
   "outputs": [],
   "source": [
    "from typing import Tuple, List\n",
    "\n",
    "\n",
    "def gradient_descent(theta, learning_rate=0.5,epochs=1000,TOL=1e-7) :\n",
    "    theta0 = theta.copy()\n",
    "    theta_history = [theta0]\n",
    "    J_history = [cost(theta0)]\n",
    "    \n",
    "    #thetanew = theta0*10000\n",
    "    print(f'epoch \\t Cost(J) \\t')\n",
    "    for epoch in range(epochs):\n",
    "        if epoch%100 == 0:\n",
    "            print(f'{epoch:5d}\\t {J_history[-1]:7.4f}\\t')\n",
    "        dJ = grad(theta0)\n",
    "        J = cost(theta0)\n",
    "        \n",
    "        thetanew = theta0 - learning_rate*dJ\n",
    "        theta_history.append(thetanew)\n",
    "        J_history.append(J)\n",
    "        \n",
    "        if np.sum((thetanew - theta0)**2) < TOL:\n",
    "            break\n",
    "        theta0 = thetanew\n",
    "\n",
    "    return thetanew, theta_history, J_history"
   ]
  },
  {
   "cell_type": "code",
   "execution_count": 15,
   "metadata": {},
   "outputs": [
    {
     "name": "stdout",
     "output_type": "stream",
     "text": [
      "epoch \t Cost(J) \t\n",
      "    0\t 157282.9767\t\n",
      "  100\t 77.6860\t\n",
      "  200\t 73.7984\t\n"
     ]
    }
   ],
   "source": [
    "# ON peut utiliser différentes stratégies pour initialiser theta \n",
    "\n",
    "# theta = eps * np.random.random((X.shape[1],1))\n",
    "# theta = 0 * np.random.random((X.shape[1],1))\n",
    "# theta = np.mean(y) * np.ones((X.shape[1],1))\n",
    "\n",
    "best_theta,theta_history,J_history = gradient_descent(theta)"
   ]
  },
  {
   "cell_type": "code",
   "execution_count": 16,
   "metadata": {},
   "outputs": [
    {
     "data": {
      "text/plain": [
       "[<matplotlib.lines.Line2D at 0x7f861acaa050>]"
      ]
     },
     "execution_count": 16,
     "metadata": {},
     "output_type": "execute_result"
    },
    {
     "data": {
      "image/png": "[encoded data removed]",
      "text/plain": [
       "<Figure size 640x480 with 1 Axes>"
      ]
     },
     "metadata": {},
     "output_type": "display_data"
    }
   ],
   "source": [
    "plt.yscale('log')\n",
    "plt.plot(J_history)"
   ]
  },
  {
   "cell_type": "code",
   "execution_count": 17,
   "metadata": {},
   "outputs": [
    {
     "data": {
      "text/plain": [
       "<matplotlib.legend.Legend at 0x7f861c3b1330>"
      ]
     },
     "execution_count": 17,
     "metadata": {},
     "output_type": "execute_result"
    },
    {
     "data": {
      "image/png": "[encoded data removed]",
      "text/plain": [
       "<Figure size 640x480 with 1 Axes>"
      ]
     },
     "metadata": {},
     "output_type": "display_data"
    }
   ],
   "source": [
    "\n",
    "ypred = X @ best_theta\n",
    "sortidx = np.argsort(ypred[:,0])\n",
    "plt.plot(y[sortidx,0],label='y present in data')\n",
    "plt.plot(ypred[sortidx,0], label='y predicted by model')\n",
    "plt.legend()"
   ]
  },
  {
   "cell_type": "code",
   "execution_count": 18,
   "metadata": {},
   "outputs": [],
   "source": [
    "def prediction_de_prix(taille: int, n_chambres: int, n_salle_de_bain: int) -> float:\n",
    "    x = np.array([1, taille, n_chambres, n_salle_de_bain])\n",
    "    x_min = np.min(x, axis=0)\n",
    "    x_max = np.max(x, axis=0)\n",
    "    x_range = x_max - x_min\n",
    "    x_norm = (x - x_min) / x_range\n",
    "    y_pred = x_norm @ best_theta \n",
    "    return y_pred[0]\n",
    "     "
   ]
  },
  {
   "attachments": {},
   "cell_type": "markdown",
   "metadata": {},
   "source": [
    "Vérification de la cohérence des résultats"
   ]
  },
  {
   "cell_type": "code",
   "execution_count": 19,
   "metadata": {},
   "outputs": [
    {
     "name": "stdout",
     "output_type": "stream",
     "text": [
      "prediction_de_prix(taille=taille, n_chambres=4, n_salle_de_bain=1)=34.732\n"
     ]
    },
    {
     "data": {
      "text/html": [
       "<div>\n",
       "<style scoped>\n",
       "    .dataframe tbody tr th:only-of-type {\n",
       "        vertical-align: middle;\n",
       "    }\n",
       "\n",
       "    .dataframe tbody tr th {\n",
       "        vertical-align: top;\n",
       "    }\n",
       "\n",
       "    .dataframe thead th {\n",
       "        text-align: right;\n",
       "    }\n",
       "</style>\n",
       "<table border=\"1\" class=\"dataframe\">\n",
       "  <thead>\n",
       "    <tr style=\"text-align: right;\">\n",
       "      <th></th>\n",
       "      <th>taille</th>\n",
       "      <th>n_chambres</th>\n",
       "      <th>n_salle_de_bain</th>\n",
       "      <th>prix</th>\n",
       "    </tr>\n",
       "  </thead>\n",
       "  <tbody>\n",
       "    <tr>\n",
       "      <th>13</th>\n",
       "      <td>50</td>\n",
       "      <td>3</td>\n",
       "      <td>2</td>\n",
       "      <td>33.714</td>\n",
       "    </tr>\n",
       "    <tr>\n",
       "      <th>53</th>\n",
       "      <td>50</td>\n",
       "      <td>2</td>\n",
       "      <td>2</td>\n",
       "      <td>31.019</td>\n",
       "    </tr>\n",
       "    <tr>\n",
       "      <th>94</th>\n",
       "      <td>50</td>\n",
       "      <td>3</td>\n",
       "      <td>3</td>\n",
       "      <td>31.748</td>\n",
       "    </tr>\n",
       "  </tbody>\n",
       "</table>\n",
       "</div>"
      ],
      "text/plain": [
       "    taille  n_chambres  n_salle_de_bain    prix\n",
       "13      50           3                2  33.714\n",
       "53      50           2                2  31.019\n",
       "94      50           3                3  31.748"
      ]
     },
     "metadata": {},
     "output_type": "display_data"
    }
   ],
   "source": [
    "taille = 50\n",
    "print(f\"{prediction_de_prix(taille=taille, n_chambres=4, n_salle_de_bain=1)=:.3f}\")\n",
    "display(df.query(f\"@taille - 1 < taille < @taille + 1\"))"
   ]
  },
  {
   "attachments": {},
   "cell_type": "markdown",
   "metadata": {},
   "source": [
    "Evaluation statistique du modèle"
   ]
  },
  {
   "cell_type": "code",
   "execution_count": 20,
   "metadata": {},
   "outputs": [
    {
     "data": {
      "text/plain": [
       "PearsonRResult(statistic=0.9964938689344864, pvalue=2.489381963657087e-106)"
      ]
     },
     "execution_count": 20,
     "metadata": {},
     "output_type": "execute_result"
    }
   ],
   "source": [
    "from scipy.stats import pearsonr\n",
    "\n",
    "pearsonr(ypred.reshape(-1), y.reshape(-1))"
   ]
  },
  {
   "attachments": {},
   "cell_type": "markdown",
   "metadata": {},
   "source": [
    "NB : The P-value is the probability that you would have found the current result if the correlation coefficient were in fact zero"
   ]
  },
  {
   "cell_type": "code",
   "execution_count": null,
   "metadata": {},
   "outputs": [],
   "source": []
  }
 ],
 "metadata": {
  "kernelspec": {
   "display_name": "publish_cenv",
   "language": "python",
   "name": "python3"
  },
  "language_info": {
   "codemirror_mode": {
    "name": "ipython",
    "version": 3
   },
   "file_extension": ".py",
   "mimetype": "text/x-python",
   "name": "python",
   "nbconvert_exporter": "python",
   "pygments_lexer": "ipython3",
   "version": "3.10.11"
  },
  "orig_nbformat": 4
 },
 "nbformat": 4,
 "nbformat_minor": 2
}
